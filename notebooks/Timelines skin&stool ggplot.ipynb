{
 "cells": [
  {
   "cell_type": "markdown",
   "metadata": {},
   "source": [
    "# Alpha diversity timelines for skin & stool microbiome"
   ]
  },
  {
   "cell_type": "code",
   "execution_count": 1,
   "metadata": {
    "scrolled": true
   },
   "outputs": [
    {
     "name": "stderr",
     "output_type": "stream",
     "text": [
      "Registered S3 methods overwritten by 'tibble':\n",
      "  method     from  \n",
      "  format.tbl pillar\n",
      "  print.tbl  pillar\n",
      "\n",
      "Registered S3 method overwritten by 'rvest':\n",
      "  method            from\n",
      "  read_xml.response xml2\n",
      "\n",
      "-- \u001b[1mAttaching packages\u001b[22m ---------------------------------------------------------------------------------------------------------------------------------------------------------------------------------------------------- tidyverse 1.2.1 --\n",
      "\n",
      "\u001b[32mv\u001b[39m \u001b[34mggplot2\u001b[39m 3.3.5       \u001b[32mv\u001b[39m \u001b[34mpurrr  \u001b[39m 0.3.2  \n",
      "\u001b[32mv\u001b[39m \u001b[34mtibble \u001b[39m 2.1.1       \u001b[32mv\u001b[39m \u001b[34mdplyr  \u001b[39m 0.8.0.\u001b[31m1\u001b[39m\n",
      "\u001b[32mv\u001b[39m \u001b[34mtidyr  \u001b[39m 0.8.3       \u001b[32mv\u001b[39m \u001b[34mstringr\u001b[39m 1.4.0  \n",
      "\u001b[32mv\u001b[39m \u001b[34mreadr  \u001b[39m 1.3.1       \u001b[32mv\u001b[39m \u001b[34mforcats\u001b[39m 0.4.0  \n",
      "\n",
      "-- \u001b[1mConflicts\u001b[22m ------------------------------------------------------------------------------------------------------------------------------------------------------------------------------------------------------- tidyverse_conflicts() --\n",
      "\u001b[31mx\u001b[39m \u001b[34mdplyr\u001b[39m::\u001b[32mfilter()\u001b[39m masks \u001b[34mstats\u001b[39m::filter()\n",
      "\u001b[31mx\u001b[39m \u001b[34mdplyr\u001b[39m::\u001b[32mlag()\u001b[39m    masks \u001b[34mstats\u001b[39m::lag()\n",
      "\n",
      "Warning message:\n",
      "\"package 'cowplot' was built under R version 3.6.3\"\n"
     ]
    }
   ],
   "source": [
    "# load the libraries\n",
    "library(tidyverse)\n",
    "library(cowplot)"
   ]
  },
  {
   "cell_type": "markdown",
   "metadata": {},
   "source": [
    "## Skin microbiome"
   ]
  },
  {
   "cell_type": "code",
   "execution_count": 2,
   "metadata": {
    "scrolled": true
   },
   "outputs": [
    {
     "data": {
      "text/html": [
       "<table>\n",
       "<thead><tr><th scope=col>SampleID</th><th scope=col>Label</th><th scope=col>Plate</th><th scope=col>Position</th><th scope=col>BarcodeSequence</th><th scope=col>LinkerPrimerSequence</th><th scope=col>ForwardBarcodeSequence</th><th scope=col>ReversePrimerSequence</th><th scope=col>ReverseBarcodeSequence</th><th scope=col>TruSeqAdapter</th><th scope=col>...</th><th scope=col>Patient_Visit_SAE_Eco</th><th scope=col>Dg_RS3</th><th scope=col>Dg_Drug_RS3</th><th scope=col>Dg_SAE_RS3</th><th scope=col>Dg_SS_SAE_RS3</th><th scope=col>Dg_SSEco_SAE_RS3</th><th scope=col>shannon_entropy</th><th scope=col>chao1</th><th scope=col>observed_features</th><th scope=col>faith_pd</th></tr></thead>\n",
       "<tbody>\n",
       "\t<tr><td>K11_JV87_I_D        </td><td>K11_JV87_I_D        </td><td>plate_4             </td><td>G4                  </td><td>ACGAAACGCTCCA       </td><td>GTCCTACGGGNGGCWGCAG </td><td>ACGAA               </td><td>GGACTACHVGGGTWTCTAAT</td><td>ACGCTCC             </td><td>GTGAAA              </td><td>...                 </td><td>HC11_visit_1HC_HC   </td><td>HC_HC               </td><td>HC_HC_HC            </td><td>HC_HC_HC            </td><td>HC_D_HC_HC          </td><td>HC_SeT_HC_HC        </td><td>15                  </td><td>37                  </td><td>27                  </td><td>18                  </td></tr>\n",
       "\t<tr><td>K11_JV87_IV_D       </td><td>K11_JV87_IV_D       </td><td>plate_4             </td><td>H4                  </td><td>ACGAAAGCGCCCA       </td><td>GTCCTACGGGNGGCWGCAG </td><td>ACGAA               </td><td>GGACTACHVGGGTWTCTAAT</td><td>AGCGCCC             </td><td>GTGAAA              </td><td>...                 </td><td>HC11_visit_4HC_HC   </td><td>HC_HC               </td><td>HC_HC_HC            </td><td>HC_HC_HC            </td><td>HC_D_HC_HC          </td><td>HC_SeT_HC_HC        </td><td>20                  </td><td>12                  </td><td>56                  </td><td>49                  </td></tr>\n",
       "\t<tr><td>K12_KJ78_I_D        </td><td>K12_KJ78_I_D        </td><td>plate_4             </td><td>C5                  </td><td>ACGAAAACCCGCA       </td><td>GTCCTACGGGNGGCWGCAG </td><td>ACGAA               </td><td>GGACTACHVGGGTWTCTAAT</td><td>AACCCGC             </td><td>GTGAAA              </td><td>...                 </td><td>HC12_visit_1HC_HC   </td><td>HC_HC               </td><td>HC_HC_HC            </td><td>HC_HC_HC            </td><td>HC_D_HC_HC          </td><td>HC_SeT_HC_HC        </td><td>40                  </td><td>22                  </td><td>12                  </td><td>68                  </td></tr>\n",
       "\t<tr><td>K12_KJ78_IV_D       </td><td>K12_KJ78_IV_D       </td><td>plate_4             </td><td>D5                  </td><td>ACGAAATCCCTCA       </td><td>GTCCTACGGGNGGCWGCAG </td><td>ACGAA               </td><td>GGACTACHVGGGTWTCTAAT</td><td>ATCCCTC             </td><td>GTGAAA              </td><td>...                 </td><td>HC12_visit_4HC_HC   </td><td>HC_HC               </td><td>HC_HC_HC            </td><td>HC_HC_HC            </td><td>HC_D_HC_HC          </td><td>HC_SeT_HC_HC        </td><td>48                  </td><td>18                  </td><td> 8                  </td><td>53                  </td></tr>\n",
       "\t<tr><td>K16_PP75_I_D        </td><td>K16_PP75_I_D        </td><td>plate_4             </td><td>F5                  </td><td>ACGAAAGGCCTCA       </td><td>GTCCTACGGGNGGCWGCAG </td><td>ACGAA               </td><td>GGACTACHVGGGTWTCTAAT</td><td>AGGCCTC             </td><td>GTGAAA              </td><td>...                 </td><td>HC16_visit_1HC_HC   </td><td>HC_HC               </td><td>HC_HC_HC            </td><td>HC_HC_HC            </td><td>HC_D_HC_HC          </td><td>HC_SeT_HC_HC        </td><td>36                  </td><td>17                  </td><td> 1                  </td><td>50                  </td></tr>\n",
       "\t<tr><td>K16_PP75_IV_D       </td><td>K16_PP75_IV_D       </td><td>plate_4             </td><td>H5                  </td><td>AAAGAGCACGAAA       </td><td>GTCCTACGGGNGGCWGCAG </td><td>ACGAA               </td><td>GGACTACHVGGGTWTCTAAT</td><td>AAAGAGC             </td><td>GTGAAA              </td><td>...                 </td><td>HC16_visit_4HC_HC   </td><td>HC_HC               </td><td>HC_HC_HC            </td><td>HC_HC_HC            </td><td>HC_D_HC_HC          </td><td>HC_SeT_HC_HC        </td><td>44                  </td><td>62                  </td><td>45                  </td><td>61                  </td></tr>\n",
       "</tbody>\n",
       "</table>\n"
      ],
      "text/latex": [
       "\\begin{tabular}{r|lllllllllllllllllllllllllllllllllllllllllllllllllllllllllllllllllllllllllllllllllllllllllllllllllllllllllllllllllllllllllllllllllllllllllll}\n",
       " SampleID & Label & Plate & Position & BarcodeSequence & LinkerPrimerSequence & ForwardBarcodeSequence & ReversePrimerSequence & ReverseBarcodeSequence & TruSeqAdapter & ... & Patient\\_Visit\\_SAE\\_Eco & Dg\\_RS3 & Dg\\_Drug\\_RS3 & Dg\\_SAE\\_RS3 & Dg\\_SS\\_SAE\\_RS3 & Dg\\_SSEco\\_SAE\\_RS3 & shannon\\_entropy & chao1 & observed\\_features & faith\\_pd\\\\\n",
       "\\hline\n",
       "\t K11\\_JV87\\_I\\_D      & K11\\_JV87\\_I\\_D      & plate\\_4               & G4                      & ACGAAACGCTCCA           & GTCCTACGGGNGGCWGCAG     & ACGAA                   & GGACTACHVGGGTWTCTAAT    & ACGCTCC                 & GTGAAA                  & ...                     & HC11\\_visit\\_1HC\\_HC & HC\\_HC                 & HC\\_HC\\_HC            & HC\\_HC\\_HC            & HC\\_D\\_HC\\_HC        & HC\\_SeT\\_HC\\_HC      & 15                      & 37                      & 27                      & 18                     \\\\\n",
       "\t K11\\_JV87\\_IV\\_D     & K11\\_JV87\\_IV\\_D     & plate\\_4               & H4                      & ACGAAAGCGCCCA           & GTCCTACGGGNGGCWGCAG     & ACGAA                   & GGACTACHVGGGTWTCTAAT    & AGCGCCC                 & GTGAAA                  & ...                     & HC11\\_visit\\_4HC\\_HC & HC\\_HC                 & HC\\_HC\\_HC            & HC\\_HC\\_HC            & HC\\_D\\_HC\\_HC        & HC\\_SeT\\_HC\\_HC      & 20                      & 12                      & 56                      & 49                     \\\\\n",
       "\t K12\\_KJ78\\_I\\_D      & K12\\_KJ78\\_I\\_D      & plate\\_4               & C5                      & ACGAAAACCCGCA           & GTCCTACGGGNGGCWGCAG     & ACGAA                   & GGACTACHVGGGTWTCTAAT    & AACCCGC                 & GTGAAA                  & ...                     & HC12\\_visit\\_1HC\\_HC & HC\\_HC                 & HC\\_HC\\_HC            & HC\\_HC\\_HC            & HC\\_D\\_HC\\_HC        & HC\\_SeT\\_HC\\_HC      & 40                      & 22                      & 12                      & 68                     \\\\\n",
       "\t K12\\_KJ78\\_IV\\_D     & K12\\_KJ78\\_IV\\_D     & plate\\_4               & D5                      & ACGAAATCCCTCA           & GTCCTACGGGNGGCWGCAG     & ACGAA                   & GGACTACHVGGGTWTCTAAT    & ATCCCTC                 & GTGAAA                  & ...                     & HC12\\_visit\\_4HC\\_HC & HC\\_HC                 & HC\\_HC\\_HC            & HC\\_HC\\_HC            & HC\\_D\\_HC\\_HC        & HC\\_SeT\\_HC\\_HC      & 48                      & 18                      &  8                      & 53                     \\\\\n",
       "\t K16\\_PP75\\_I\\_D      & K16\\_PP75\\_I\\_D      & plate\\_4               & F5                      & ACGAAAGGCCTCA           & GTCCTACGGGNGGCWGCAG     & ACGAA                   & GGACTACHVGGGTWTCTAAT    & AGGCCTC                 & GTGAAA                  & ...                     & HC16\\_visit\\_1HC\\_HC & HC\\_HC                 & HC\\_HC\\_HC            & HC\\_HC\\_HC            & HC\\_D\\_HC\\_HC        & HC\\_SeT\\_HC\\_HC      & 36                      & 17                      &  1                      & 50                     \\\\\n",
       "\t K16\\_PP75\\_IV\\_D     & K16\\_PP75\\_IV\\_D     & plate\\_4               & H5                      & AAAGAGCACGAAA           & GTCCTACGGGNGGCWGCAG     & ACGAA                   & GGACTACHVGGGTWTCTAAT    & AAAGAGC                 & GTGAAA                  & ...                     & HC16\\_visit\\_4HC\\_HC & HC\\_HC                 & HC\\_HC\\_HC            & HC\\_HC\\_HC            & HC\\_D\\_HC\\_HC        & HC\\_SeT\\_HC\\_HC      & 44                      & 62                      & 45                      & 61                     \\\\\n",
       "\\end{tabular}\n"
      ],
      "text/markdown": [
       "\n",
       "| SampleID | Label | Plate | Position | BarcodeSequence | LinkerPrimerSequence | ForwardBarcodeSequence | ReversePrimerSequence | ReverseBarcodeSequence | TruSeqAdapter | ... | Patient_Visit_SAE_Eco | Dg_RS3 | Dg_Drug_RS3 | Dg_SAE_RS3 | Dg_SS_SAE_RS3 | Dg_SSEco_SAE_RS3 | shannon_entropy | chao1 | observed_features | faith_pd |\n",
       "|---|---|---|---|---|---|---|---|---|---|---|---|---|---|---|---|---|---|---|---|---|\n",
       "| K11_JV87_I_D         | K11_JV87_I_D         | plate_4              | G4                   | ACGAAACGCTCCA        | GTCCTACGGGNGGCWGCAG  | ACGAA                | GGACTACHVGGGTWTCTAAT | ACGCTCC              | GTGAAA               | ...                  | HC11_visit_1HC_HC    | HC_HC                | HC_HC_HC             | HC_HC_HC             | HC_D_HC_HC           | HC_SeT_HC_HC         | 15                   | 37                   | 27                   | 18                   |\n",
       "| K11_JV87_IV_D        | K11_JV87_IV_D        | plate_4              | H4                   | ACGAAAGCGCCCA        | GTCCTACGGGNGGCWGCAG  | ACGAA                | GGACTACHVGGGTWTCTAAT | AGCGCCC              | GTGAAA               | ...                  | HC11_visit_4HC_HC    | HC_HC                | HC_HC_HC             | HC_HC_HC             | HC_D_HC_HC           | HC_SeT_HC_HC         | 20                   | 12                   | 56                   | 49                   |\n",
       "| K12_KJ78_I_D         | K12_KJ78_I_D         | plate_4              | C5                   | ACGAAAACCCGCA        | GTCCTACGGGNGGCWGCAG  | ACGAA                | GGACTACHVGGGTWTCTAAT | AACCCGC              | GTGAAA               | ...                  | HC12_visit_1HC_HC    | HC_HC                | HC_HC_HC             | HC_HC_HC             | HC_D_HC_HC           | HC_SeT_HC_HC         | 40                   | 22                   | 12                   | 68                   |\n",
       "| K12_KJ78_IV_D        | K12_KJ78_IV_D        | plate_4              | D5                   | ACGAAATCCCTCA        | GTCCTACGGGNGGCWGCAG  | ACGAA                | GGACTACHVGGGTWTCTAAT | ATCCCTC              | GTGAAA               | ...                  | HC12_visit_4HC_HC    | HC_HC                | HC_HC_HC             | HC_HC_HC             | HC_D_HC_HC           | HC_SeT_HC_HC         | 48                   | 18                   |  8                   | 53                   |\n",
       "| K16_PP75_I_D         | K16_PP75_I_D         | plate_4              | F5                   | ACGAAAGGCCTCA        | GTCCTACGGGNGGCWGCAG  | ACGAA                | GGACTACHVGGGTWTCTAAT | AGGCCTC              | GTGAAA               | ...                  | HC16_visit_1HC_HC    | HC_HC                | HC_HC_HC             | HC_HC_HC             | HC_D_HC_HC           | HC_SeT_HC_HC         | 36                   | 17                   |  1                   | 50                   |\n",
       "| K16_PP75_IV_D        | K16_PP75_IV_D        | plate_4              | H5                   | AAAGAGCACGAAA        | GTCCTACGGGNGGCWGCAG  | ACGAA                | GGACTACHVGGGTWTCTAAT | AAAGAGC              | GTGAAA               | ...                  | HC16_visit_4HC_HC    | HC_HC                | HC_HC_HC             | HC_HC_HC             | HC_D_HC_HC           | HC_SeT_HC_HC         | 44                   | 62                   | 45                   | 61                   |\n",
       "\n"
      ],
      "text/plain": [
       "  SampleID      Label         Plate   Position BarcodeSequence\n",
       "1 K11_JV87_I_D  K11_JV87_I_D  plate_4 G4       ACGAAACGCTCCA  \n",
       "2 K11_JV87_IV_D K11_JV87_IV_D plate_4 H4       ACGAAAGCGCCCA  \n",
       "3 K12_KJ78_I_D  K12_KJ78_I_D  plate_4 C5       ACGAAAACCCGCA  \n",
       "4 K12_KJ78_IV_D K12_KJ78_IV_D plate_4 D5       ACGAAATCCCTCA  \n",
       "5 K16_PP75_I_D  K16_PP75_I_D  plate_4 F5       ACGAAAGGCCTCA  \n",
       "6 K16_PP75_IV_D K16_PP75_IV_D plate_4 H5       AAAGAGCACGAAA  \n",
       "  LinkerPrimerSequence ForwardBarcodeSequence ReversePrimerSequence\n",
       "1 GTCCTACGGGNGGCWGCAG  ACGAA                  GGACTACHVGGGTWTCTAAT \n",
       "2 GTCCTACGGGNGGCWGCAG  ACGAA                  GGACTACHVGGGTWTCTAAT \n",
       "3 GTCCTACGGGNGGCWGCAG  ACGAA                  GGACTACHVGGGTWTCTAAT \n",
       "4 GTCCTACGGGNGGCWGCAG  ACGAA                  GGACTACHVGGGTWTCTAAT \n",
       "5 GTCCTACGGGNGGCWGCAG  ACGAA                  GGACTACHVGGGTWTCTAAT \n",
       "6 GTCCTACGGGNGGCWGCAG  ACGAA                  GGACTACHVGGGTWTCTAAT \n",
       "  ReverseBarcodeSequence TruSeqAdapter ... Patient_Visit_SAE_Eco Dg_RS3\n",
       "1 ACGCTCC                GTGAAA        ... HC11_visit_1HC_HC     HC_HC \n",
       "2 AGCGCCC                GTGAAA        ... HC11_visit_4HC_HC     HC_HC \n",
       "3 AACCCGC                GTGAAA        ... HC12_visit_1HC_HC     HC_HC \n",
       "4 ATCCCTC                GTGAAA        ... HC12_visit_4HC_HC     HC_HC \n",
       "5 AGGCCTC                GTGAAA        ... HC16_visit_1HC_HC     HC_HC \n",
       "6 AAAGAGC                GTGAAA        ... HC16_visit_4HC_HC     HC_HC \n",
       "  Dg_Drug_RS3 Dg_SAE_RS3 Dg_SS_SAE_RS3 Dg_SSEco_SAE_RS3 shannon_entropy chao1\n",
       "1 HC_HC_HC    HC_HC_HC   HC_D_HC_HC    HC_SeT_HC_HC     15              37   \n",
       "2 HC_HC_HC    HC_HC_HC   HC_D_HC_HC    HC_SeT_HC_HC     20              12   \n",
       "3 HC_HC_HC    HC_HC_HC   HC_D_HC_HC    HC_SeT_HC_HC     40              22   \n",
       "4 HC_HC_HC    HC_HC_HC   HC_D_HC_HC    HC_SeT_HC_HC     48              18   \n",
       "5 HC_HC_HC    HC_HC_HC   HC_D_HC_HC    HC_SeT_HC_HC     36              17   \n",
       "6 HC_HC_HC    HC_HC_HC   HC_D_HC_HC    HC_SeT_HC_HC     44              62   \n",
       "  observed_features faith_pd\n",
       "1 27                18      \n",
       "2 56                49      \n",
       "3 12                68      \n",
       "4  8                53      \n",
       "5  1                50      \n",
       "6 45                61      "
      ]
     },
     "metadata": {},
     "output_type": "display_data"
    }
   ],
   "source": [
    "#load metadata\n",
    "#metadata <- read.delim(\"/Users/dagmarschierova/MEGA/MBÚ/swabs_ZS/inputs/metadata_swabs_cut.tsv\")\n",
    "metadata <- read.delim(\"C:\\\\Users\\\\Dasa\\\\Documents\\\\MEGA\\\\MBÚ\\\\swabs_ZS\\\\inputs\\\\metadata_swabs_cut.tsv\")\n",
    "\n",
    "# load alpha diversities\n",
    "#shannon <- read.delim(\"/Users/dagmarschierova/MEGA/MBÚ/swabs_ZS/outputs/qiime2_results_290230/diversity-D_UST/alpha/shannon_tabulated.tsv\", sep='\\t')[-1, ]\n",
    "#faith <- read.delim(\"/Users/dagmarschierova/MEGA/MBÚ/swabs_ZS/outputs/qiime2_results_290230/diversity-D_UST/alpha/faith_pd_tabulated.tsv\", sep='\\t')[-1, ]\n",
    "#asv <- read.delim(\"/Users/dagmarschierova/MEGA/MBÚ/swabs_ZS/outputs/qiime2_results_290230/diversity-D_UST/alpha/observed_features_tabulated.tsv\", sep='\\t')[-1, ]\n",
    "#chao1 <- read.delim(\"/Users/dagmarschierova/MEGA/MBÚ/swabs_ZS/outputs/qiime2_results_290230/diversity-D_UST/alpha/chao1_tabulated.tsv\", sep='\\t')[-1, ]\n",
    "shannon <- read.delim(\"C:\\\\Users\\\\Dasa\\\\Documents\\\\MEGA\\\\MBÚ\\\\swabs_ZS\\\\outputs\\\\qiime2_results_290230\\\\diversity-D_UST\\\\alpha\\\\shannon_tabulated.tsv\", sep='\\t')[-1, ]\n",
    "faith <- read.delim(\"C:\\\\Users\\\\Dasa\\\\Documents\\\\MEGA\\\\MBÚ\\\\swabs_ZS\\\\outputs\\\\qiime2_results_290230\\\\diversity-D_UST\\\\alpha\\\\faith_pd_tabulated.tsv\", sep='\\t')[-1, ]\n",
    "asv <- read.delim(\"C:\\\\Users\\\\Dasa\\\\Documents\\\\MEGA\\\\MBÚ\\\\swabs_ZS\\\\outputs\\\\qiime2_results_290230\\\\diversity-D_UST\\\\alpha\\\\observed_features_tabulated.tsv\", sep='\\t')[-1, ]\n",
    "chao1 <- read.delim(\"C:\\\\Users\\\\Dasa\\\\Documents\\\\MEGA\\\\MBÚ\\\\swabs_ZS\\\\outputs\\\\qiime2_results_290230\\\\diversity-D_UST\\\\alpha\\\\chao1_tabulated.tsv\", sep='\\t')[-1, ]\n",
    "\n",
    "\n",
    "# merge alpha diversity with metadata\n",
    "metadata <- merge(metadata,shannon, by = c(\"SampleID\"))\n",
    "metadata <- merge(metadata,chao1, by = c(\"SampleID\"))\n",
    "metadata <- merge(metadata,asv, by = c(\"SampleID\"))\n",
    "metadata <- merge(metadata,faith, by = c(\"SampleID\"))\n",
    "\n",
    "# convert data type to double\n",
    "metadata <- transform(metadata, HBI_pMayo=as.numeric(HBI_pMayo))\n",
    "metadata <- transform(metadata, shannon_entropy=as.double(shannon_entropy))\n",
    "metadata <- transform(metadata, observed_features=as.double(observed_features))\n",
    "metadata <- transform(metadata, chao1=as.double(chao1))\n",
    "metadata <- transform(metadata, faith_pd=as.double(faith_pd))\n",
    "\n",
    "head(metadata)"
   ]
  },
  {
   "cell_type": "code",
   "execution_count": 3,
   "metadata": {
    "scrolled": true
   },
   "outputs": [
    {
     "name": "stderr",
     "output_type": "stream",
     "text": [
      "`geom_smooth()` using method = 'loess' and formula 'y ~ x'\n",
      "\n",
      "`geom_smooth()` using method = 'loess' and formula 'y ~ x'\n",
      "\n",
      "`geom_smooth()` using method = 'loess' and formula 'y ~ x'\n",
      "\n",
      "`geom_smooth()` using method = 'loess' and formula 'y ~ x'\n",
      "\n",
      "`geom_smooth()` using method = 'loess' and formula 'y ~ x'\n",
      "\n"
     ]
    },
    {
     "data": {
      "text/html": [
       "<strong>png:</strong> 2"
      ],
      "text/latex": [
       "\\textbf{png:} 2"
      ],
      "text/markdown": [
       "**png:** 2"
      ],
      "text/plain": [
       "png \n",
       "  2 "
      ]
     },
     "metadata": {},
     "output_type": "display_data"
    },
    {
     "data": {
      "image/png": "[encoded data removed]",
      "text/plain": [
       "plot without title"
      ]
     },
     "metadata": {
      "image/png": {
       "height": 420,
       "width": 420
      }
     },
     "output_type": "display_data"
    }
   ],
   "source": [
    "# plot clinical indices\n",
    "plt_score <- ggplot(data=metadata)+\n",
    "  geom_point(mapping = aes(x = Week_num, y = HBI_pMayo, group=Patient, color=Dg))+\n",
    "  geom_line(mapping = aes(x = Week_num, y = HBI_pMayo, group=Patient, color=Dg))+\n",
    "  geom_smooth(mapping = aes(x = Week_num, y = HBI_pMayo, linetype=Dg, color=Dg, fill=Dg), size=2)+\n",
    "  facet_grid(~fct_relevel(Dg,'CD','UC','HC'), scales = \"free\")+\n",
    "  labs(x=\"Week\", y=\"HBI/pMayo\")+\n",
    "  theme_bw()+\n",
    "  theme(panel.grid = element_blank(), legend.position=\"none\",\n",
    "        axis.line = element_line(colour = \"black\"), \n",
    "        axis.title = element_text(size = 14),\n",
    "        strip.text.x = element_text(size = 14))+\n",
    "  scale_color_manual(values = c(\"CD\"=\"orange\", \"UC\"=\"red\", \"HC\"=\"blue\"))+\n",
    "  scale_fill_manual(values = c(\"CD\"=\"orange\", \"UC\"=\"red\", \"HC\"=\"blue\"))\n",
    "\n",
    "# plot Shannon diversity in time\n",
    "plt_shannon <- ggplot(data=metadata)+\n",
    "  geom_point(mapping = aes(x = Week_num, y = shannon_entropy, group=Patient, color=Dg))+\n",
    "  geom_line(mapping = aes(x = Week_num, y = shannon_entropy, group=Patient, color=Dg))+\n",
    "  geom_smooth(mapping = aes(x = Week_num, y = shannon_entropy, linetype=Dg, color=Dg, fill=Dg), size=2)+\n",
    "  facet_grid(~fct_relevel(Dg,'CD','UC','HC'), scales = \"free\")+\n",
    "  labs(x=\"Week\", y=\"Shannon entropy\")+\n",
    "  theme_bw()+\n",
    "  theme(panel.grid = element_blank(), legend.position=\"none\",\n",
    "        axis.line = element_line(colour = \"black\"), \n",
    "        axis.title = element_text(size = 14),\n",
    "        strip.text.x = element_blank())+\n",
    "  scale_color_manual(values = c(\"CD\"=\"orange\", \"UC\"=\"red\", \"HC\"=\"blue\"))+\n",
    "  scale_fill_manual(values = c(\"CD\"=\"orange\", \"UC\"=\"red\", \"HC\"=\"blue\"))\n",
    "\n",
    "# plot ASVs in time\n",
    "plt_asv <- ggplot(data=metadata)+\n",
    "  geom_point(mapping = aes(x = Week_num, y = observed_features, group=Patient, color=Dg))+\n",
    "  geom_line(mapping = aes(x = Week_num, y = observed_features, group=Patient, color=Dg))+\n",
    "  geom_smooth(mapping = aes(x = Week_num, y = observed_features, linetype=Dg, color=Dg, fill=Dg), size=2)+\n",
    "  facet_grid(~fct_relevel(Dg,'CD','UC','HC'), scales = \"free\")+\n",
    "  labs(x=\"Week\", y=\"ASVs\")+\n",
    "  theme_bw()+\n",
    "  theme(panel.grid = element_blank(), legend.position=\"none\",\n",
    "        axis.line = element_line(colour = \"black\"),  \n",
    "        axis.title = element_text(size = 14),\n",
    "        strip.text.x = element_blank())+\n",
    "  scale_color_manual(values = c(\"CD\"=\"orange\", \"UC\"=\"red\", \"HC\"=\"blue\"))+\n",
    "  scale_fill_manual(values = c(\"CD\"=\"orange\", \"UC\"=\"red\", \"HC\"=\"blue\"))\n",
    "\n",
    "# plot Chao1 in time\n",
    "plt_chao1 <- ggplot(data=metadata)+\n",
    "  geom_point(mapping = aes(x = Week_num, y = chao1, group=Patient, color=Dg))+\n",
    "  geom_line(mapping = aes(x = Week_num, y = chao1, group=Patient, color=Dg))+\n",
    "  geom_smooth(mapping = aes(x = Week_num, y = chao1, linetype=Dg, color=Dg, fill=Dg), size=2)+\n",
    "  facet_grid(~fct_relevel(Dg,'CD','UC','HC'), scales = \"free\")+\n",
    "  labs(x=\"Week\", y=\"Chao1\")+\n",
    "  theme_bw()+\n",
    "  theme(panel.grid = element_blank(), \n",
    "        axis.line = element_line(colour = \"black\"), legend.position=\"none\",\n",
    "        axis.title = element_text(size = 14),\n",
    "        strip.text.x = element_blank())+\n",
    "  scale_color_manual(values = c(\"CD\"=\"orange\", \"UC\"=\"red\", \"HC\"=\"blue\"))+\n",
    "  scale_fill_manual(values = c(\"CD\"=\"orange\", \"UC\"=\"red\", \"HC\"=\"blue\"))\n",
    "\n",
    "# plot Faith's PD in time\n",
    "plt_faith <- ggplot(data=metadata)+\n",
    "  geom_point(mapping = aes(x = Week_num, y = faith_pd, group=Patient, color=Dg))+\n",
    "  geom_line(mapping = aes(x = Week_num, y = faith_pd, group=Patient, color=Dg))+\n",
    "  geom_smooth(mapping = aes(x = Week_num, y = faith_pd, linetype=Dg, color=Dg, fill=Dg), size=2)+\n",
    "  facet_grid(~fct_relevel(Dg,'CD','UC','HC'), scales = \"free\")+\n",
    "  labs(x=\"Week\", y=\"Faith's PD\")+\n",
    "  theme_bw()+\n",
    "  theme(panel.grid = element_blank(), legend.position=\"none\",\n",
    "        axis.line = element_line(colour = \"black\"),\n",
    "        axis.title = element_text(size = 14),\n",
    "        strip.text.x = element_blank())+\n",
    "  scale_color_manual(values = c(\"CD\"=\"orange\", \"UC\"=\"red\", \"HC\"=\"blue\"))+\n",
    "  scale_fill_manual(values = c(\"CD\"=\"orange\", \"UC\"=\"red\", \"HC\"=\"blue\"))\n",
    "\n",
    "# combine plots to one figure\n",
    "options(warn=-1)\n",
    "skin_timelines <- plot_grid(plt_score, plt_shannon, plt_asv, plt_chao1, plt_faith, cols=1, align = \"v\")\n",
    "skin_timelines\n",
    "options(warn=0)\n",
    "\n",
    "# save figure\n",
    "#png(file = \"/Users/dagmarschierova/MEGA/MBÚ/USTEK/Figures/USTEK_skin_alpha_timelines.png\", bg = \"transparent\", res=300, width=5000, height=3000)\n",
    "png(file = \"C:\\\\Users\\\\Dasa\\\\Documents\\\\MEGA\\\\MBÚ\\\\USTEK\\\\Figures\\\\USTEK_skin_alpha_timelines.png\", bg = \"transparent\", res=300, width=4500, height=3000)\n",
    "plot(skin_timelines)\n",
    "dev.off()"
   ]
  },
  {
   "cell_type": "markdown",
   "metadata": {},
   "source": [
    "## Stool microbiome - bacteria"
   ]
  },
  {
   "cell_type": "code",
   "execution_count": 4,
   "metadata": {},
   "outputs": [
    {
     "name": "stderr",
     "output_type": "stream",
     "text": [
      "Warning message in merge.data.frame(metadata_stool, faith_stool, by = c(\"Label\")):\n",
      "\"column names 'Sample.ID.x', 'Sample.ID.y' are duplicated in the result\"\n"
     ]
    }
   ],
   "source": [
    "# load metadata\n",
    "#metadata_stool <- read.delim(\"/Users/dagmarschierova/MEGA/MBÚ/USTEK/NGS/input/metadata_ustek_new.tsv\", sep='\\t')[-1, ]\n",
    "metadata_stool <- read.delim(\"C:\\\\Users\\\\Dasa\\\\Documents\\\\MEGA\\\\MBÚ\\\\USTEK\\\\NGS\\\\input\\\\metadata_ustek_new.tsv\", sep='\\t')[-1, ]\n",
    "\n",
    "# load alpha diveristies\n",
    "#shannon_stool <- read.delim(\"/Users/dagmarschierova/MEGA/MBÚ/USTEK/NGS/output/qiime2_results_B_plus_HC/diversity_ustek2/alpha/shannon-tabulated-exported.tsv\", sep='\\t')[-1, ]\n",
    "#faith_stool <- read.delim(\"/Users/dagmarschierova/MEGA/MBÚ/USTEK/NGS/output/qiime2_results_B_plus_HC/diversity_ustek2/alpha/faith_pd-tabulated-exported.tsv\", sep='\\t')[-1, ]\n",
    "#asv_stool <- read.delim(\"/Users/dagmarschierova/MEGA/MBÚ/USTEK/NGS/output/qiime2_results_B_plus_HC/diversity_ustek2/alpha/observed_features-tabulated-exported.tsv\", sep='\\t')[-1, ]\n",
    "#chao1_stool <- read.delim(\"/Users/dagmarschierova/MEGA/MBÚ/USTEK/NGS/output/qiime2_results_B_plus_HC/diversity_ustek2/alpha/chao1-tabulated-exported.tsv\", sep='\\t')[-1, ]\n",
    "shannon_stool <- read.delim(\"C:\\\\Users\\\\Dasa\\\\Documents\\\\MEGA\\\\MBÚ\\\\USTEK\\\\NGS\\\\output\\\\qiime2_results_B_plus_HC\\\\diversity_ustek2\\\\alpha\\\\shannon-tabulated-exported.tsv\", sep='\\t')[-1, ]\n",
    "faith_stool <- read.delim(\"C:\\\\Users\\\\Dasa\\\\Documents\\\\MEGA\\\\MBÚ\\\\USTEK\\\\NGS\\\\output\\\\qiime2_results_B_plus_HC\\\\diversity_ustek2\\\\alpha\\\\faith_pd-tabulated-exported.tsv\", sep='\\t')[-1, ]\n",
    "asv_stool <- read.delim(\"C:\\\\Users\\\\Dasa\\\\Documents\\\\MEGA\\\\MBÚ\\\\USTEK\\\\NGS\\\\output\\\\qiime2_results_B_plus_HC\\\\diversity_ustek2\\\\alpha\\\\observed_features-tabulated-exported.tsv\", sep='\\t')[-1, ]\n",
    "chao1_stool <- read.delim(\"C:\\\\Users\\\\Dasa\\\\Documents\\\\MEGA\\\\MBÚ\\\\USTEK\\\\NGS\\\\output\\\\qiime2_results_B_plus_HC\\\\diversity_ustek2\\\\alpha\\\\chao1-tabulated-exported.tsv\", sep='\\t')[-1, ]\n",
    "\n",
    "\n",
    "# merge alpha diversities with metadata\n",
    "metadata_stool <- merge(metadata_stool,shannon_stool, by = c(\"Label\"))\n",
    "metadata_stool <- merge(metadata_stool,chao1_stool, by = c(\"Label\"))\n",
    "metadata_stool <- merge(metadata_stool,asv_stool, by = c(\"Label\"))\n",
    "metadata_stool <- merge(metadata_stool,faith_stool, by = c(\"Label\"))\n",
    "\n",
    "\n",
    "# convert data type to double\n",
    "metadata_stool <- transform(metadata_stool, HBI_pMayo=as.numeric(as.character(HBI_pMayo)))\n",
    "metadata_stool <- transform(metadata_stool, shannon_entropy=as.double(shannon_entropy))\n",
    "metadata_stool <- transform(metadata_stool, observed_features=as.double(observed_features))\n",
    "metadata_stool <- transform(metadata_stool, chao1=as.double(chao1))\n",
    "metadata_stool <- transform(metadata_stool, faith_pd=as.double(faith_pd))\n",
    "metadata_stool <- transform(metadata_stool, Week_num=as.numeric(Week_num))\n",
    "\n",
    "# filter out controls with one sample\n",
    "metadata_stool <- filter(metadata_stool, Drug=='UST' | Label==\"K2_1\" | Label==\"K2_4\" |\n",
    "                         Label==\"K10_1\" | Label==\"K10_4\" | Label==\"K15_1\" | Label==\"K15_4\" |\n",
    "                         Label==\"K31_1\" | Label==\"K31_4\")\n"
   ]
  },
  {
   "cell_type": "code",
   "execution_count": 5,
   "metadata": {},
   "outputs": [
    {
     "name": "stderr",
     "output_type": "stream",
     "text": [
      "`geom_smooth()` using method = 'loess' and formula 'y ~ x'\n",
      "\n",
      "`geom_smooth()` using method = 'loess' and formula 'y ~ x'\n",
      "\n",
      "`geom_smooth()` using method = 'loess' and formula 'y ~ x'\n",
      "\n",
      "`geom_smooth()` using method = 'loess' and formula 'y ~ x'\n",
      "\n",
      "`geom_smooth()` using method = 'loess' and formula 'y ~ x'\n",
      "\n"
     ]
    },
    {
     "data": {
      "text/html": [
       "<strong>png:</strong> 2"
      ],
      "text/latex": [
       "\\textbf{png:} 2"
      ],
      "text/markdown": [
       "**png:** 2"
      ],
      "text/plain": [
       "png \n",
       "  2 "
      ]
     },
     "metadata": {},
     "output_type": "display_data"
    },
    {
     "data": {
      "image/png": "[encoded data removed]",
      "text/plain": [
       "plot without title"
      ]
     },
     "metadata": {
      "image/png": {
       "height": 420,
       "width": 420
      }
     },
     "output_type": "display_data"
    }
   ],
   "source": [
    "# plot disease severity scores\n",
    "plt_score_st <- ggplot(data=metadata_stool)+\n",
    "  geom_point(mapping = aes(x = Week_num, y = HBI_pMayo, group=Patient, color=Dg))+\n",
    "  geom_line(mapping = aes(x = Week_num, y = HBI_pMayo, group=Patient, color=Dg))+\n",
    "  geom_smooth(mapping = aes(x = Week_num, y = HBI_pMayo, linetype=Dg, color=Dg, fill=Dg), size=2)+\n",
    "  facet_grid(~fct_relevel(Dg,'CD','UC'), scales = \"free\")+\n",
    "  labs(x=\"Week\", y=\"HBI/pMayo\")+\n",
    "  theme_bw()+\n",
    "  theme(panel.grid = element_blank(), legend.position=\"none\",\n",
    "        axis.line = element_line(colour = \"black\"),\n",
    "        axis.title = element_text(size = 14),\n",
    "        strip.text.x = element_text(size = 14))+\n",
    "  scale_color_manual(values = c(\"CD\"=\"orange\", \"UC\"=\"red\", \"HC\"=\"blue\"))+\n",
    "  scale_fill_manual(values = c(\"CD\"=\"orange\", \"UC\"=\"red\", \"HC\"=\"blue\"))\n",
    "\n",
    "\n",
    "# plot Shannon diversity in time\n",
    "plt_shannon_st <- ggplot(data=metadata_stool)+\n",
    "  geom_point(mapping = aes(x = Week_num, y = shannon_entropy, group=Patient, color=Dg))+\n",
    "  geom_line(mapping = aes(x = Week_num, y = shannon_entropy, group=Patient, color=Dg))+\n",
    "  geom_smooth(mapping = aes(x = Week_num, y = shannon_entropy, linetype=Dg, color=Dg, fill=Dg), size=2)+\n",
    "  facet_grid(~fct_relevel(Dg,'CD','UC','HC'), scales = \"free\")+\n",
    "  labs(x=\"Week\", y=\"Shannon entropy\")+\n",
    "  theme_bw()+\n",
    "  theme(panel.grid = element_blank(), legend.position=\"none\",\n",
    "        axis.line = element_line(colour = \"black\"),\n",
    "        axis.title = element_text(size = 14),\n",
    "        strip.text.x = element_blank())+\n",
    "  scale_color_manual(values = c(\"CD\"=\"orange\", \"UC\"=\"red\", \"HC\"=\"blue\"))+\n",
    "  scale_fill_manual(values = c(\"CD\"=\"orange\", \"UC\"=\"red\", \"HC\"=\"blue\"))\n",
    "\n",
    "# plot ASVs in time\n",
    "plt_asv_st <- ggplot(data=metadata_stool)+\n",
    "  geom_point(mapping = aes(x = Week_num, y = observed_features, group=Patient, color=Dg))+\n",
    "  geom_line(mapping = aes(x = Week_num, y = observed_features, group=Patient, color=Dg))+\n",
    "  geom_smooth(mapping = aes(x = Week_num, y = observed_features, linetype=Dg, color=Dg, fill=Dg), size=2)+\n",
    "  facet_grid(~fct_relevel(Dg,'CD','UC','HC'), scales = \"free\")+\n",
    "  labs(x=\"Week\", y=\"ASVs\")+\n",
    "  theme_bw()+\n",
    "  theme(panel.grid = element_blank(), legend.position=\"none\", \n",
    "        axis.line = element_line(colour = \"black\"), \n",
    "        axis.title = element_text(size = 14),\n",
    "        strip.text.x = element_blank())+\n",
    "  scale_color_manual(values = c(\"CD\"=\"orange\", \"UC\"=\"red\", \"HC\"=\"blue\"))+\n",
    "  scale_fill_manual(values = c(\"CD\"=\"orange\", \"UC\"=\"red\", \"HC\"=\"blue\"))\n",
    "\n",
    "# plot Chao1 in time\n",
    "plt_chao1_st <- ggplot(data=metadata_stool)+\n",
    "  geom_point(mapping = aes(x = Week_num, y = chao1, group=Patient, color=Dg))+\n",
    "  geom_line(mapping = aes(x = Week_num, y = chao1, group=Patient, color=Dg))+\n",
    "  geom_smooth(mapping = aes(x = Week_num, y = chao1, linetype=Dg, color=Dg, fill=Dg), size=2)+\n",
    "  facet_grid(~fct_relevel(Dg,'CD','UC','HC'), scales = \"free\")+\n",
    "  labs(x=\"Week\", y=\"Chao1\")+\n",
    "  theme_bw()+\n",
    "  theme(panel.grid = element_blank(), legend.position=\"none\", \n",
    "        axis.line = element_line(colour = \"black\"), \n",
    "        axis.title = element_text(size = 14),\n",
    "        strip.text.x = element_blank())+\n",
    "  scale_color_manual(values = c(\"CD\"=\"orange\", \"UC\"=\"red\", \"HC\"=\"blue\"))+\n",
    "  scale_fill_manual(values = c(\"CD\"=\"orange\", \"UC\"=\"red\", \"HC\"=\"blue\"))\n",
    "\n",
    "# plot Faith's PD in time\n",
    "plt_faith_st <- ggplot(data=metadata_stool)+\n",
    "  geom_point(mapping = aes(x = Week_num, y = faith_pd, group=Patient, color=Dg))+\n",
    "  geom_line(mapping = aes(x = Week_num, y = faith_pd, group=Patient, color=Dg))+\n",
    "  geom_smooth(mapping = aes(x = Week_num, y = faith_pd, linetype=Dg, color=Dg, fill=Dg), size=2)+\n",
    "  facet_grid(~fct_relevel(Dg,'CD','UC','HC'), scales = \"free\")+\n",
    "  labs(x=\"Week\", y=\"Faith's PD\")+\n",
    "  theme_bw()+\n",
    "  theme(panel.grid = element_blank(), legend.position=\"none\", \n",
    "        axis.line = element_line(colour = \"black\"), \n",
    "        axis.title = element_text(size = 14),\n",
    "        strip.text.x = element_blank())+\n",
    "  scale_color_manual(values = c(\"CD\"=\"orange\", \"UC\"=\"red\", \"HC\"=\"blue\"))+\n",
    "  scale_fill_manual(values = c(\"CD\"=\"orange\", \"UC\"=\"red\", \"HC\"=\"blue\"))\n",
    "\n",
    "# combine plots to one figure\n",
    "options(warn=-1)\n",
    "stool_timelines <- plot_grid(plt_score_st, plt_shannon_st, plt_asv_st, plt_chao1_st, plt_faith_st, cols=1, align = \"v\")\n",
    "stool_timelines\n",
    "options(warn=0)\n",
    "\n",
    "# save figure\n",
    "#png(file = \"/Users/dagmarschierova/MEGA/MBÚ/USTEK/Figures/USTEK_stool_alpha_timelines.png\", bg = \"transparent\", res=300, width=5000, height=3000)\n",
    "png(file = \"C:\\\\Users\\\\Dasa\\\\Documents\\\\MEGA\\\\MBÚ\\\\USTEK\\\\Figures\\\\USTEK_stool_alpha_timelines.png\", bg = \"transparent\", res=300, width=4500, height=3000)\n",
    "plot(stool_timelines)\n",
    "dev.off()"
   ]
  },
  {
   "cell_type": "code",
   "execution_count": null,
   "metadata": {},
   "outputs": [],
   "source": []
  }
 ],
 "metadata": {
  "kernelspec": {
   "display_name": "R",
   "language": "R",
   "name": "ir"
  },
  "language_info": {
   "codemirror_mode": "r",
   "file_extension": ".r",
   "mimetype": "text/x-r-source",
   "name": "R",
   "pygments_lexer": "r",
   "version": "3.6.1"
  }
 },
 "nbformat": 4,
 "nbformat_minor": 4
}
