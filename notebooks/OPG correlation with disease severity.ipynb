{
 "cells": [
  {
   "cell_type": "code",
   "execution_count": 1,
   "metadata": {},
   "outputs": [],
   "source": [
    "import pandas as pd\n",
    "from scipy import stats"
   ]
  },
  {
   "cell_type": "code",
   "execution_count": 2,
   "metadata": {},
   "outputs": [],
   "source": [
    "biomark = pd.read_csv(\"/Users/dagmarschierova/MEGA/MBÚ/USTEK/statistics/vysledky_biomarkery_pacientiUSTekinumab_20.11.25.tsv\", sep='\\t')\n",
    "biomark.set_index('SampleID', inplace=True)\n",
    "\n",
    "metadata = pd.read_csv(\"/Users/dagmarschierova/MEGA/MBÚ/USTEK/NGS/input/metadata_ustek_new.tsv\", sep='\\t')\n",
    "metadata = metadata.iloc[1:]\n",
    "metadata.rename(columns={\"#SampleID\": \"SampleID\"}, inplace=True)\n",
    "metadata.set_index('SampleID', inplace=True)\n",
    "\n",
    "biomark = biomark.merge(metadata, how='left', left_index=True, right_index=True)\n",
    "biomark.at['30_KM_1', 'Label'] = \"30_KM_1\"\n",
    "biomark.at['30_KM_1', 'Age'] = biomark.loc[\"30_KM_2\", \"Age\"]\n",
    "biomark.at['30_KM_1', 'Sex'] = biomark.loc[\"30_KM_2\", \"Sex\"]\n",
    "biomark.at['30_KM_1', 'Dg'] = biomark.loc[\"30_KM_2\", \"Dg\"]\n",
    "biomark.at['30_KM_1', 'Drug'] = biomark.loc[\"30_KM_2\", \"Drug\"]\n",
    "biomark.at['30_KM_1', 'HBI_num'] = 8\n",
    "biomark.at['18_SJ_6', 'Label'] = \"18_SJ_6\"\n",
    "biomark.at['18_SJ_6', 'Age'] = biomark.loc[\"18_SJ_1\", \"Age\"]\n",
    "biomark.at['18_SJ_6', 'Sex'] = biomark.loc[\"18_SJ_1\", \"Sex\"]\n",
    "biomark.at['18_SJ_6', 'Dg'] = biomark.loc[\"18_SJ_1\", \"Dg\"]\n",
    "biomark.at['18_SJ_6', 'Drug'] = biomark.loc[\"18_SJ_1\", \"Drug\"]\n",
    "biomark.at['18_SJ_6', 'HBI_num'] = 3\n",
    "\n",
    "biomark['osteo'] = biomark['osteo'].astype(float)\n",
    "biomark['HBI_num'] = biomark['HBI_num'].astype(float)\n"
   ]
  },
  {
   "cell_type": "code",
   "execution_count": 3,
   "metadata": {},
   "outputs": [
    {
     "data": {
      "text/plain": [
       "SpearmanrResult(correlation=0.3556094874182006, pvalue=0.05378521838171568)"
      ]
     },
     "execution_count": 3,
     "metadata": {},
     "output_type": "execute_result"
    }
   ],
   "source": [
    "stats.spearmanr(biomark['osteo'], biomark['HBI_num'], nan_policy='omit')"
   ]
  },
  {
   "cell_type": "code",
   "execution_count": 4,
   "metadata": {},
   "outputs": [
    {
     "data": {
      "text/plain": [
       "<AxesSubplot:xlabel='osteo', ylabel='HBI_num'>"
      ]
     },
     "execution_count": 4,
     "metadata": {},
     "output_type": "execute_result"
    },
    {
     "data": {
      "image/png": "[encoded data removed]",
      "text/plain": [
       "<Figure size 432x288 with 1 Axes>"
      ]
     },
     "metadata": {
      "needs_background": "light"
     },
     "output_type": "display_data"
    }
   ],
   "source": [
    "biomark.plot.scatter(x='osteo', y='HBI_num')"
   ]
  },
  {
   "cell_type": "code",
   "execution_count": null,
   "metadata": {},
   "outputs": [],
   "source": []
  }
 ],
 "metadata": {
  "kernelspec": {
   "display_name": "Python 3",
   "language": "python",
   "name": "python3"
  },
  "language_info": {
   "codemirror_mode": {
    "name": "ipython",
    "version": 3
   },
   "file_extension": ".py",
   "mimetype": "text/x-python",
   "name": "python",
   "nbconvert_exporter": "python",
   "pygments_lexer": "ipython3",
   "version": "3.9.7"
  }
 },
 "nbformat": 4,
 "nbformat_minor": 4
}
