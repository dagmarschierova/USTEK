{
 "cells": [
  {
   "cell_type": "code",
   "execution_count": 1,
   "metadata": {},
   "outputs": [],
   "source": [
    "import pandas as pd\n",
    "%matplotlib inline\n",
    "import matplotlib.pyplot as plt"
   ]
  },
  {
   "cell_type": "markdown",
   "metadata": {},
   "source": [
    "### Bacteria all samples"
   ]
  },
  {
   "cell_type": "code",
   "execution_count": 2,
   "metadata": {},
   "outputs": [],
   "source": [
    "df1 = pd.read_csv(\"/Users/dagmarschierova/MEGA/MBÚ/USTEK/NGS/output/qiime2_results_B_plus_HC/taxonomy_ustek_no_raref/taxonomy-L7-rel.tsv\", \n",
    "                 sep='\\t', skiprows=1, index_col=0)\n",
    "df1 = df1.drop(df1[(df1 < 0.01).all(axis=1)].index)\n",
    "df1.to_csv(\"/Users/dagmarschierova/MEGA/MBÚ/USTEK/NGS/output/qiime2_results_B_plus_HC/taxonomy_ustek_no_raref/taxonomy-L7-rel-filtered1perc.tsv\", \n",
    "         sep='\\t')"
   ]
  },
  {
   "cell_type": "markdown",
   "metadata": {},
   "source": [
    "### Bacteria week 0 and week 40"
   ]
  },
  {
   "cell_type": "code",
   "execution_count": 3,
   "metadata": {},
   "outputs": [],
   "source": [
    "df2 = pd.read_csv(\"/Users/dagmarschierova/MEGA/MBÚ/USTEK/NGS/output/qiime2_results_B_plus_HC/taxonomy_ustek_no_raref_Week_040/taxonomy-L7-rel.tsv\", \n",
    "                 sep='\\t', skiprows=1, index_col=0)\n",
    "df2 = df2.drop(df2[(df2 < 0.01).all(axis=1)].index)\n",
    "df2.to_csv(\"/Users/dagmarschierova/MEGA/MBÚ/USTEK/NGS/output/qiime2_results_B_plus_HC/taxonomy_ustek_no_raref_Week_040/taxonomy-L7-rel-filtered1perc.tsv\", \n",
    "         sep='\\t')"
   ]
  },
  {
   "cell_type": "markdown",
   "metadata": {},
   "source": [
    "### Fungi all samples"
   ]
  },
  {
   "cell_type": "code",
   "execution_count": 4,
   "metadata": {},
   "outputs": [],
   "source": [
    "df3 = pd.read_csv(\"/Users/dagmarschierova/MEGA/MBÚ/USTEK/NGS/output/qiime2_results_H_plus_HC/taxonomy_ustek_no_raref/taxonomy-L7-rel.tsv\", \n",
    "                 sep='\\t', skiprows=1, index_col=0)\n",
    "df3 = df3.drop(df3[(df3 < 0.01).all(axis=1)].index)\n",
    "df3.to_csv(\"/Users/dagmarschierova/MEGA/MBÚ/USTEK/NGS/output/qiime2_results_H_plus_HC/taxonomy_ustek_no_raref/taxonomy-L7-rel-filtered1perc.tsv\", \n",
    "         sep='\\t')"
   ]
  },
  {
   "cell_type": "markdown",
   "metadata": {},
   "source": [
    "### Fungi week 0 and week 40"
   ]
  },
  {
   "cell_type": "code",
   "execution_count": 5,
   "metadata": {},
   "outputs": [],
   "source": [
    "df4 = pd.read_csv(\"/Users/dagmarschierova/MEGA/MBÚ/USTEK/NGS/output/qiime2_results_H_plus_HC/taxonomy_ustek_no_raref_Week_040/taxonomy-L7-rel.tsv\", \n",
    "                 sep='\\t', skiprows=1, index_col=0)\n",
    "df4 = df4.drop(df4[(df4 < 0.01).all(axis=1)].index)\n",
    "df4.to_csv(\"/Users/dagmarschierova/MEGA/MBÚ/USTEK/NGS/output/qiime2_results_H_plus_HC/taxonomy_ustek_no_raref_Week_040/taxonomy-L7-rel-filtered1perc.tsv\", \n",
    "         sep='\\t')"
   ]
  },
  {
   "cell_type": "code",
   "execution_count": null,
   "metadata": {},
   "outputs": [],
   "source": []
  }
 ],
 "metadata": {
  "kernelspec": {
   "display_name": "Python 3",
   "language": "python",
   "name": "python3"
  },
  "language_info": {
   "codemirror_mode": {
    "name": "ipython",
    "version": 3
   },
   "file_extension": ".py",
   "mimetype": "text/x-python",
   "name": "python",
   "nbconvert_exporter": "python",
   "pygments_lexer": "ipython3",
   "version": "3.9.7"
  }
 },
 "nbformat": 4,
 "nbformat_minor": 4
}
